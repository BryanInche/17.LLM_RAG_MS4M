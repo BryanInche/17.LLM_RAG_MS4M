{
  "cells": [
    {
      "cell_type": "markdown",
      "metadata": {
        "id": "wAO1RCmsKu2x"
      },
      "source": [
        "# Retrival-Aumented Generation\n",
        "## ! Incrementar la capacidad de los LLMs, reduciendo sus debilidades !\n",
        "\n",
        "### Los LLMs No son perfectos, tienen limitaciones.\n",
        "\n",
        "- Pueden a veces proporcionar respuestas inexactas y ademas en algunos casos pueden producir respuestas sesgadas o con ciertos prejuicios.\n",
        "- Estan fijados en el tiempo, son estaticos\n",
        "- Producir alucinaciones\n",
        "- Conocimientos del LLM son de caracter mas general, no especializados.\n",
        "- Fuentes usadas para dar la respuesta no suficientemente claras\n",
        "\n",
        "## Retrieval-Augmented Generation (RAG) combina la tecnologia de los LLMs con base de datos vectoriales(vector bds)\n",
        "\n",
        "- Retrieval : Esta etapa consiste en indexar, recuperar los segmentos de texto creados que son relevantes en funcion de la similitud semantica\n",
        "\n",
        "- Augmentation : Incrementar con informacion adicional los conocimientos del LLM\n",
        "\n",
        "- Generation : Generar respuestas a apartir de los conocimientos del LLMs mediante la generacion de una respuesta adecuada y valida.\n",
        "\n"
      ]
    },
    {
      "cell_type": "code",
      "execution_count": 1,
      "metadata": {
        "id": "IXjuKrzCuu5B"
      },
      "outputs": [],
      "source": [
        "#Instalar LangChain Community\n",
        "#!pip install langchain-community"
      ]
    },
    {
      "cell_type": "code",
      "execution_count": null,
      "metadata": {
        "id": "a9l2yQTeKzjo"
      },
      "outputs": [
        {
          "name": "stderr",
          "output_type": "stream",
          "text": [
            "C:\\Users\\BryanInche-MS4M\\AppData\\Local\\Temp\\ipykernel_19284\\1580372552.py:3: LangChainDeprecationWarning: The class `Ollama` was deprecated in LangChain 0.3.1 and will be removed in 1.0.0. An updated version of the class exists in the :class:`~langchain-ollama package and should be used instead. To use it run `pip install -U :class:`~langchain-ollama` and import as `from :class:`~langchain_ollama import OllamaLLM``.\n",
            "  llm = Ollama(model=\"mistral\")\n"
          ]
        }
      ],
      "source": [
        "#Usamos Llama 3 con Ollama\n",
        "from langchain_community.llms import Ollama\n",
        "# Convierte la salida de un modelo en una cadena de texto (str)\n",
        "from langchain_core.output_parsers import StrOutputParser\n",
        "\n",
        "#  Pasa los datos sin cambios dentro de un pipeline de LangChain\n",
        "from langchain_core.runnables import RunnablePassthrough\n",
        "\n",
        "\n",
        "llm = Ollama(model=\"mistral\")"
      ]
    },
    {
      "cell_type": "code",
      "execution_count": 6,
      "metadata": {
        "id": "_18VXQDg6Yp_"
      },
      "outputs": [],
      "source": [
        "# 1.Importando la clase ChatPromptTemplate.\n",
        "#Esta clase se utiliza para crear plantillas de mensajes de chat que incluyen rol (\"user\", \"assistant\", o \"system\") y un contenido (el texto del mensaje).\n",
        "\n",
        "from langchain_core.prompts import ChatPromptTemplate\n",
        "\n",
        "# 2.Aquí defines una plantilla de texto llamada template11.\n",
        "#La plantilla contiene un marcador de posición {pregunta}, que será reemplazado por un valor específico\n",
        "\n",
        "#Se define que el rol del mensaje es \"user\" (el usuario que hace la pregunta)\n",
        "template12 = ChatPromptTemplate.from_messages([\n",
        "    (\"user\", \"Pregunta: {pregunta}\")\n",
        "])"
      ]
    },
    {
      "cell_type": "code",
      "execution_count": 11,
      "metadata": {
        "id": "KsTfJQYIx4Kc"
      },
      "outputs": [],
      "source": [
        "#!pip install -qU langchain-openai"
      ]
    },
    {
      "cell_type": "code",
      "execution_count": 7,
      "metadata": {
        "id": "Jth_uYW6Sr5c"
      },
      "outputs": [],
      "source": [
        "# Crear la cadena de RAG\n",
        "retrieval_rag_cadena = (\n",
        "    {\"pregunta\": RunnablePassthrough()}  # Pasar la pregunta directamente sin modificar\n",
        "    | template12  # Formatear la pregunta usando el prompt(instrucciones) del template\n",
        "    | llm  # Enviar el mensaje formateado al modelo de lenguaje\n",
        "    | StrOutputParser()  # Parsear la salida del modelo a texto plano\n",
        ")"
      ]
    },
    {
      "cell_type": "code",
      "execution_count": 8,
      "metadata": {
        "colab": {
          "base_uri": "https://localhost:8080/",
          "height": 686
        },
        "id": "wkGqCgcYbCBV",
        "outputId": "041c29c0-2dc5-4625-86d2-e430c2eb1c57"
      },
      "outputs": [
        {
          "name": "stdout",
          "output_type": "stream",
          "text": [
            " El modelo Gemini se refiere a una constelación en el firmamento, pero también puede referirse a una tecnología o un sistema de computación. En cuanto a la constelación Gemini:\n",
            "\n",
            "* Está localizada en la región del cielo conocida como la eclíptica.\n",
            "* Es una de las 88 constelaciones modernas definidas por astronomos y cartógrafos europeos durante el Renacimiento.\n",
            "* Su nombre proviene de dos mitologías: la griega, donde Gemini es uno de los dioses gemelos Castor y Polux (o Pollux), hijos del dios Zeus; y la romana, donde son identificados con Dióscuros.\n",
            "* La constelación Gemini está formada por siete estrellas principales. Sus características más significativas son las estrellas Castor (alpha Geminorum) y Pollux (beta Geminorum), que son de magnitud 1,64 y 1,15 respectivamente. Estas dos estrellas tienen un periodo orbital de 399 días, lo cual hace que parezcan girar uno alrededor del otro.\n",
            "* La constelación Gemini se encuentra en el hemisferio norte y está rodeada por otras constelaciones importantes como Tauro, Auriga, Orión y Canis Major.\n",
            "\n",
            "En cuanto a la tecnología/sistema de computación llamado Gemini:\n",
            "\n",
            "* Puede referirse al modelo de ordenador IBM S/360 Modelo 51 para la empresa de seguros Aetna Insurance Company, diseñado en 1972.\n",
            "* También se refiere al sistema operativo Microsoft Windows NT de Microsoft, que fue sucedido por las versiones posteriores de Windows y es considerado como el predecesor directo del actual sistema operativo Windows Server.\n",
            "* Puede referirse también a Gemini Observatorios, un observatorio espacial en la constelación Orion desarrollado conjuntamente por Estados Unidos y Reino Unido en la década de 1960.\n",
            "\n",
            "En resumen, hay que especificar qué significado de \"Gemini\" se está utilizando para obtener información relevante.\n"
          ]
        }
      ],
      "source": [
        "pregunta77 = \"Hablame sobre informacion relevante para entender el modelo : gemini\"\n",
        "respuesta77= retrieval_rag_cadena.invoke(pregunta77)\n",
        "print(respuesta77)"
      ]
    },
    {
      "cell_type": "code",
      "execution_count": 9,
      "metadata": {
        "colab": {
          "base_uri": "https://localhost:8080/"
        },
        "id": "-7eOhqkoGLVo",
        "outputId": "05e1c210-fa05-4d5c-87ea-5b48f03c70aa"
      },
      "outputs": [
        {
          "name": "stdout",
          "output_type": "stream",
          "text": [
            " Respuesta: La empresa MS4M es una empresa peruana con sede en Lima, especializada en el diseño y fabricación de sistemas de automatización, control y monitoreo, con un enfoque en soluciones integrales para la industria minera.\n",
            "\n",
            "La compañía ofrece servicios y productos que incluyen:\n",
            "- Sistemas de Control Centralizado (CCS) para plantas concentradoras y moliendas.\n",
            "- Sistemas de Control Localizado (LCS) para circuito cerrado de moedores, plantas de flotación, plantas de lixiviación, etc.\n",
            "- Sistemas de Automatización (PLC y SCADA).\n",
            "- Sistemas de Vigilancia Remota (VRS).\n",
            "- Soluciones para el Monitoreo en Línea (On-Line Monitoring)\n",
            "- Sistemas de Control de Almacenes (Warehouse Management Systems - WMS).\n",
            "- Sistemas de Gestión de Mantenimiento Preventivo, Correctivo y Predictivo (Computerized Maintenance Management System - CMMS).\n",
            "- Asesoría en Tecnologías Mineras e Ingeniería.\n",
            "\n",
            "La misión de la compañía es ofrecer soluciones tecnológicas de alta calidad para optimizar los procesos productivos de las industrias mineras, aumentando su eficiencia y reduciendo sus costos, mediante la integración de tecnologías avanzadas en un paquete personalizado que se adapte a las necesidades específicas de cada cliente.\n"
          ]
        }
      ],
      "source": [
        "pregunta77 = \"Hablame sobre las operaciones de la empresa MS4M de Peru\"\n",
        "respuesta77= retrieval_rag_cadena.invoke(pregunta77)\n",
        "print(respuesta77)"
      ]
    }
  ],
  "metadata": {
    "accelerator": "GPU",
    "colab": {
      "gpuType": "T4",
      "provenance": []
    },
    "kernelspec": {
      "display_name": "Python 3",
      "name": "python3"
    },
    "language_info": {
      "codemirror_mode": {
        "name": "ipython",
        "version": 3
      },
      "file_extension": ".py",
      "mimetype": "text/x-python",
      "name": "python",
      "nbconvert_exporter": "python",
      "pygments_lexer": "ipython3",
      "version": "3.11.9"
    }
  },
  "nbformat": 4,
  "nbformat_minor": 0
}
