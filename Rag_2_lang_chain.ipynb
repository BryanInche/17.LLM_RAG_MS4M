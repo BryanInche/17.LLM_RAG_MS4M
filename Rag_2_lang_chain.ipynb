{
 "cells": [
  {
   "cell_type": "code",
   "execution_count": null,
   "metadata": {},
   "outputs": [],
   "source": [
    "#!pip install fastembed langchain langchain-community PyMuPDF chromadb pypdf"
   ]
  },
  {
   "cell_type": "code",
   "execution_count": 9,
   "metadata": {},
   "outputs": [],
   "source": [
    "#!pip list"
   ]
  },
  {
   "cell_type": "code",
   "execution_count": 6,
   "metadata": {},
   "outputs": [
    {
     "name": "stderr",
     "output_type": "stream",
     "text": [
      "C:\\Users\\BryanInche-MS4M\\AppData\\Local\\Temp\\ipykernel_30984\\251033526.py:9: LangChainDeprecationWarning: The class `Ollama` was deprecated in LangChain 0.3.1 and will be removed in 1.0.0. An updated version of the class exists in the :class:`~langchain-ollama package and should be used instead. To use it run `pip install -U :class:`~langchain-ollama` and import as `from :class:`~langchain_ollama import OllamaLLM``.\n",
      "  llm_ms4m = Ollama(model=\"mistral\")\n"
     ]
    },
    {
     "data": {
      "text/plain": [
       "'¡Hola! Soy un asistente de inteligencia artificial creado para ayudarte en tus preguntas y necesidades. ¿Puedo hacer algo por ti hoy?'"
      ]
     },
     "execution_count": 6,
     "metadata": {},
     "output_type": "execute_result"
    }
   ],
   "source": [
    "from langchain_community.llms import Ollama\n",
    "\n",
    "#FastEmbed: Para generar embeddings rápidamente.\n",
    "#LangChain: Para integrar modelos de lenguaje y gestionar flujos de trabajo.\n",
    "#LangChain Community: Para integraciones adicionales.\n",
    "#PyMuPDF: Para extraer texto de documentos PDF.\n",
    "#Chroma: Para almacenar datos vectoriales y buscar embeddings.\n",
    "\n",
    "llm_ms4m = Ollama(model=\"mistral\")\n",
    "\n",
    "llm_ms4m.invoke(\"Hola, quien eres\")"
   ]
  },
  {
   "cell_type": "markdown",
   "metadata": {},
   "source": [
    "## RAG"
   ]
  },
  {
   "cell_type": "markdown",
   "metadata": {},
   "source": [
    "### Cargar los Documentos "
   ]
  },
  {
   "cell_type": "code",
   "execution_count": 7,
   "metadata": {},
   "outputs": [],
   "source": [
    "from langchain_community.document_loaders import PyPDFLoader\n",
    "\n",
    "loader_documento = PyPDFLoader(\"ASIS_REPORTE_EJECUTIVO.pdf\")"
   ]
  },
  {
   "cell_type": "code",
   "execution_count": 8,
   "metadata": {},
   "outputs": [],
   "source": [
    "data_asis_ms4m = loader_documento.load()"
   ]
  },
  {
   "cell_type": "code",
   "execution_count": 11,
   "metadata": {},
   "outputs": [
    {
     "data": {
      "text/plain": [
       "Document(metadata={'producer': 'Microsoft® Word para Microsoft 365', 'creator': 'Microsoft® Word para Microsoft 365', 'creationdate': '2024-05-22T17:50:58-05:00', 'author': 'Fernando Mantari - MS4M', 'moddate': '2024-05-22T17:50:58-05:00', 'source': 'ASIS_REPORTE_EJECUTIVO.pdf', 'total_pages': 12, 'page': 1, 'page_label': '2'}, page_content='INFORME DE INTEGRACIÓN DE DATOS SMEB \\n1. Integración de Datos \\n \\n1.1. Introducción General \\n \\nEl siguiente informe . Detalla la construcción de los 4 reportes ejecutivos que se \\npresenta en la Sociedad Minera el Brocal. Desde e origen de las bases de datos y \\nsu procedencia. \\n1.2. Resumen \\n \\nEn SMEB se esta realizando 4 reportes ejecutivos que son entregados a la gerencia \\ncada fin de turno a las 8am. Para ello, se ha creado un archivo Excel automatizado \\npara cada uno de ellos, los cuales son alimentados por diferentes fuentes de \\ndatos, provenientes del área de Despacho y Operaciones Mina.  Cada uno de los \\nreportes tiene diferentes fuentes de datos los cuales serán detallados líneas \\nsiguientes. Las fuentes varían entre, archivos Excel, imágenes, mensajes de \\nwhatsap y archivos Word. Estas fuentes alimentan de manera diaria y manual a las \\nbases de datos de cada reporte ejecutivo, los cuales al cambiar la fecha \\nobtenemos el entregable. La acción de copiar y pegar los datos a la base de datos \\ndificulta agilizar los procesos, teniendo posibilidades de tener errores de tipeo. \\nA continuación, se detalla el proceso general de actualización diaria de los \\nreportes.')"
      ]
     },
     "execution_count": 11,
     "metadata": {},
     "output_type": "execute_result"
    }
   ],
   "source": [
    "data_asis_ms4m[1]"
   ]
  },
  {
   "cell_type": "markdown",
   "metadata": {},
   "source": [
    "### Chunks del Documento"
   ]
  },
  {
   "cell_type": "code",
   "execution_count": null,
   "metadata": {},
   "outputs": [],
   "source": [
    "from langchain.text_splitter import RecursiveCharacterTextSplitter\n",
    "\n",
    "# chunk_size tamaño máximo de cada fragmento (chunk) de texto\n",
    "# 512-2048 tokens (depende del modelo)\n",
    "\n",
    "# chunk_overlap cuántos caracteres o tokens se superponen entre fragmentos consecutivos \n",
    "# 10%-20% del chunk_size\n",
    "\n",
    "#  Memoria del LLMs \n",
    "\n",
    "texto_spliter = RecursiveCharacterTextSplitter(chunk_size=2000, chunk_overlap = 500)\n",
    "\n",
    "documentos = texto_spliter.split_documents(data_asis_ms4m)"
   ]
  },
  {
   "cell_type": "code",
   "execution_count": 21,
   "metadata": {},
   "outputs": [
    {
     "data": {
      "text/plain": [
       "Document(metadata={'producer': 'Microsoft® Word para Microsoft 365', 'creator': 'Microsoft® Word para Microsoft 365', 'creationdate': '2024-05-22T17:50:58-05:00', 'author': 'Fernando Mantari - MS4M', 'moddate': '2024-05-22T17:50:58-05:00', 'source': 'ASIS_REPORTE_EJECUTIVO.pdf', 'total_pages': 12, 'page': 1, 'page_label': '2'}, page_content='INFORME DE INTEGRACIÓN DE DATOS SMEB \\n1. Integración de Datos \\n \\n1.1. Introducción General \\n \\nEl siguiente informe . Detalla la construcción de los 4 reportes ejecutivos que se \\npresenta en la Sociedad Minera el Brocal. Desde e origen de las bases de datos y \\nsu procedencia. \\n1.2. Resumen \\n \\nEn SMEB se esta realizando 4 reportes ejecutivos que son entregados a la gerencia \\ncada fin de turno a las 8am. Para ello, se ha creado un archivo Excel automatizado \\npara cada uno de ellos, los cuales son alimentados por diferentes fuentes de \\ndatos, provenientes del área de Despacho y Operaciones Mina.  Cada uno de los \\nreportes tiene diferentes fuentes de datos los cuales serán detallados líneas \\nsiguientes. Las fuentes varían entre, archivos Excel, imágenes, mensajes de \\nwhatsap y archivos Word. Estas fuentes alimentan de manera diaria y manual a las \\nbases de datos de cada reporte ejecutivo, los cuales al cambiar la fecha \\nobtenemos el entregable. La acción de copiar y pegar los datos a la base de datos \\ndificulta agilizar los procesos, teniendo posibilidades de tener errores de tipeo. \\nA continuación, se detalla el proceso general de actualización diaria de los \\nreportes.')"
      ]
     },
     "execution_count": 21,
     "metadata": {},
     "output_type": "execute_result"
    }
   ],
   "source": [
    "documentos[1]"
   ]
  },
  {
   "cell_type": "code",
   "execution_count": 22,
   "metadata": {},
   "outputs": [
    {
     "data": {
      "text/plain": [
       "Document(metadata={'producer': 'Microsoft® Word para Microsoft 365', 'creator': 'Microsoft® Word para Microsoft 365', 'creationdate': '2024-05-22T17:50:58-05:00', 'author': 'Fernando Mantari - MS4M', 'moddate': '2024-05-22T17:50:58-05:00', 'source': 'ASIS_REPORTE_EJECUTIVO.pdf', 'total_pages': 12, 'page': 2, 'page_label': '3'}, page_content='2. Esquema 1 – Reporte de Extracción, por Destino y Tratamiento Planta \\n \\nILUSTRACIÓN 1: FLUJOGRAMA DE EXTRACCIÓN DE DATOS - REPORTE DE EXTRACCIÓN, POR DESTINO Y TRATAMIENTO PLANTA')"
      ]
     },
     "execution_count": 22,
     "metadata": {},
     "output_type": "execute_result"
    }
   ],
   "source": [
    "documentos[2]"
   ]
  },
  {
   "cell_type": "markdown",
   "metadata": {},
   "source": [
    "### Embedings de los Chunks, para guardar en el VectorStore"
   ]
  },
  {
   "cell_type": "markdown",
   "metadata": {},
   "source": [
    "Mistral no recibe vectores directamente. Vamos a aclarar el flujo paso a paso:\n",
    "- 1. Pregunta del usuario:\n",
    "\n",
    "El usuario ingresa una pregunta, por ejemplo: \"¿Qué significa ms3m-solutions?\"\n",
    "\n",
    "Embedding de la pregunta:\n",
    "\n",
    "- 2. La pregunta se convierte en un vector usando un modelo de embeddings (por ejemplo, FastEmbedEmbeddings).\n",
    "\n",
    "Este vector podría ser algo como [1, 7, 4, 0, 0, 1] (solo un ejemplo simplificado).\n",
    "\n",
    "- 3. Búsqueda en el vector store:\n",
    "\n",
    "El vector de la pregunta se compara con los vectores de los documentos en el vector store (Chroma) para encontrar los chunks más relevantes.\n",
    "\n",
    "Estos chunks son texto plano, no vectores.\n",
    "\n",
    "- 4. Respuesta de Mistral:\n",
    "\n",
    "Los chunks relevantes (texto plano) se pasan como contexto a Mistral.\n",
    "\n",
    "Mistral no recibe vectores, sino texto plano. Por ejemplo:\n",
    "\n",
    "- 5.Ejemplo\n",
    "Contexto: \"ms3m-solutions es una empresa especializada en soluciones tecnológicas.\"\n",
    "Pregunta: \"¿Qué significa ms3m-solutions?\"\n",
    "Mistral genera una respuesta basada en el contexto y la pregunta."
   ]
  },
  {
   "cell_type": "code",
   "execution_count": 24,
   "metadata": {},
   "outputs": [],
   "source": [
    "# Mistral no necesita entender los vectores. \n",
    "# Solo recibe texto plano (el contexto y la pregunta) y genera una respuesta\n",
    "# basada en su entrenamiento previo.\n",
    "\n",
    "# Los vectores solo se usan en la fase de recuperación \n",
    "# (para encontrar los chunks relevantes). Una vez que se recuperan los chunks, \n",
    "# se convierten en texto plano y se pasan a Mistral."
   ]
  },
  {
   "cell_type": "code",
   "execution_count": 51,
   "metadata": {},
   "outputs": [],
   "source": [
    "#!pip list"
   ]
  },
  {
   "cell_type": "code",
   "execution_count": null,
   "metadata": {},
   "outputs": [
    {
     "name": "stderr",
     "output_type": "stream",
     "text": [
      "c:\\Users\\BryanInche-MS4M\\AppData\\Local\\Programs\\Python\\Python311\\Lib\\site-packages\\tqdm\\auto.py:21: TqdmWarning: IProgress not found. Please update jupyter and ipywidgets. See https://ipywidgets.readthedocs.io/en/stable/user_install.html\n",
      "  from .autonotebook import tqdm as notebook_tqdm\n",
      "Fetching 5 files:   0%|          | 0/5 [00:00<?, ?it/s]c:\\Users\\BryanInche-MS4M\\AppData\\Local\\Programs\\Python\\Python311\\Lib\\site-packages\\huggingface_hub\\file_download.py:140: UserWarning: `huggingface_hub` cache-system uses symlinks by default to efficiently store duplicated files but your machine does not support them in C:\\Users\\BryanInche-MS4M\\AppData\\Local\\Temp\\fastembed_cache\\models--qdrant--all-MiniLM-L6-v2-onnx. Caching files will still work but in a degraded version that might require more space on your disk. This warning can be disabled by setting the `HF_HUB_DISABLE_SYMLINKS_WARNING` environment variable. For more details, see https://huggingface.co/docs/huggingface_hub/how-to-cache#limitations.\n",
      "To support symlinks on Windows, you either need to activate Developer Mode or to run Python as an administrator. In order to activate developer mode, see this article: https://docs.microsoft.com/en-us/windows/apps/get-started/enable-your-device-for-development\n",
      "  warnings.warn(message)\n",
      "Fetching 5 files: 100%|██████████| 5/5 [00:22<00:00,  4.42s/it]\n"
     ]
    }
   ],
   "source": [
    "from langchain_community.embeddings.fastembed import FastEmbedEmbeddings\n",
    "\n",
    "# Modelo Embeding Open Source, multilingue \n",
    "# Búsqueda semántica , búsqueda por similitud de embeddings \n",
    "embeding_modelo = FastEmbedEmbeddings(model_name=\"sentence-transformers/all-MiniLM-L6-v2\")"
   ]
  },
  {
   "cell_type": "markdown",
   "metadata": {},
   "source": [
    "### Generamos el VectorStore (Base de datos vectoriales)"
   ]
  },
  {
   "cell_type": "markdown",
   "metadata": {},
   "source": [
    "Bases de datos vectoriales gratuitas y open source: Chroma, FAISS, Weaviate, Milvus, Qdrant y Redis."
   ]
  },
  {
   "cell_type": "markdown",
   "metadata": {},
   "source": [
    "#### Crear y guardar el vector store por primera vez."
   ]
  },
  {
   "cell_type": "code",
   "execution_count": null,
   "metadata": {},
   "outputs": [],
   "source": [
    "from langchain_community.vectorstores import Chroma\n",
    "\n",
    "\n",
    "# Tomar los textos de los chunks y llevalos a vectores\n",
    "\n",
    "#Guarda la base de datos en el directorio chroma_db_ms4m con el nombre de colección \n",
    "# data_despacho_new_ms4m.\n",
    "vectore_store = Chroma.from_documents(\n",
    "    documents=documentos, \n",
    "    embedding=embeding_modelo, # Convierte los documentos (chunks de texto) en vectores usando el modelo de embeddings\n",
    "    persist_directory=\"chroma_db_ms4m\", # Almacena estos vectores en una base de datos vectorial\n",
    "    collection_name=\"data_despacho_new_ms4m\"    \n",
    ")"
   ]
  },
  {
   "cell_type": "markdown",
   "metadata": {},
   "source": [
    "### Construimos el Retrieval"
   ]
  },
  {
   "cell_type": "markdown",
   "metadata": {},
   "source": [
    "#### Cargar el vector store existente para usarlo en tu aplicación."
   ]
  },
  {
   "cell_type": "code",
   "execution_count": null,
   "metadata": {},
   "outputs": [
    {
     "name": "stderr",
     "output_type": "stream",
     "text": [
      "C:\\Users\\BryanInche-MS4M\\AppData\\Local\\Temp\\ipykernel_30984\\2358776816.py:5: LangChainDeprecationWarning: The class `Chroma` was deprecated in LangChain 0.2.9 and will be removed in 1.0. An updated version of the class exists in the :class:`~langchain-chroma package and should be used instead. To use it run `pip install -U :class:`~langchain-chroma` and import as `from :class:`~langchain_chroma import Chroma``.\n",
      "  vs_ms4m = Chroma(embedding_function=embeding_modelo, persist_directory=\"chroma_db_ms4m\",\n"
     ]
    }
   ],
   "source": [
    "## 5. Cargar el vector store existente (en aplicaciones posteriores)\n",
    "# El retrival, hara una busqueda de los vectores mas cercanos en el vector store,\n",
    "# y nos devolvera los mejores contextos que entregara en texto plano al LLM\n",
    "\n",
    "vs_ms4m = Chroma(embedding_function=embeding_modelo, persist_directory=\"chroma_db_ms4m\",\n",
    "                 collection_name=\"data_despacho_new_ms4m\")\n",
    "\n",
    "\n",
    "# Crear el retriever, para que la busqueda se use el vector store que hemos creado\n",
    "retriver_ms4m = vs_ms4m.as_retriever(search_kwargs={\"k\":2})"
   ]
  },
  {
   "cell_type": "markdown",
   "metadata": {},
   "source": [
    "#### Validacion del RAG , mediante un PROMPT"
   ]
  },
  {
   "cell_type": "code",
   "execution_count": 34,
   "metadata": {},
   "outputs": [],
   "source": [
    "from langchain.prompts import PromptTemplate\n",
    "\n",
    "prompt_template_prueba = \"\"\"Usa la siguiente informacion para responder al usuario.\n",
    "Si no sabes algo, no inventes una respuesta solo en esos casos menciona que no lo sabes.\n",
    "\n",
    "Contexto : {context}\n",
    "Pregunta : {question}\n",
    "\n",
    "Solo devuelve la respuesta util y responde unicamente en el idioma español\n",
    "Respuesta Util:\n",
    "\"\"\"\n",
    "\n",
    "# Le decimos cual es el prompt, y que deberia usar como inputs el contexto y la pregunta\n",
    "prompt_1 = PromptTemplate(template=prompt_template_prueba,\n",
    "                            input_variables=[\"contexto\", \"pregunta\"])"
   ]
  },
  {
   "cell_type": "markdown",
   "metadata": {},
   "source": [
    "#### Construimos una cadena de Retrival, para que consuma el retriver construido"
   ]
  },
  {
   "cell_type": "code",
   "execution_count": 35,
   "metadata": {},
   "outputs": [],
   "source": [
    "from langchain.chains import RetrievalQA\n",
    "\n",
    "# crear una cadena de RetrievalQA en LangChain \n",
    "cadena_retrival = RetrievalQA.from_chain_type(\n",
    "    llm=llm_ms4m,                      # Modelo de lenguaje (por ejemplo, Mistral)\n",
    "    chain_type=\"stuff\",                # Tipo de cadena (en este caso, \"stuff\")\n",
    "    retriever=retriver_ms4m,           # Retriever que busca los documentos relevantes\n",
    "    return_source_documents=True,      # Devuelve los documentos fuente utilizados\n",
    "    chain_type_kwargs={\"prompt\": prompt_1}  # Prompt personalizado\n",
    ")"
   ]
  },
  {
   "cell_type": "code",
   "execution_count": 36,
   "metadata": {},
   "outputs": [
    {
     "data": {
      "text/plain": [
       "{'query': 'Que es la BD LeyCh?',\n",
       " 'result': ' La Base de Datos (BD) LeyCH es una base de datos utilizada para almacenar información sobre los viajes de carga realizados por SMEB. Es alimentada a partir de un excel llamado \"Blending\" y los datos son extraídos manualmente mediante un grupo de WhatsApp llamado \"Blending – MS4M\". Los campos que se llenan en la base de datos incluyen la ley, los números de viajes M0, M1, M2, ECONOMICO y MIXTO. Los campos azul son formulas.',\n",
       " 'source_documents': [Document(metadata={'author': 'Fernando Mantari - MS4M', 'creationdate': '2024-05-22T17:50:58-05:00', 'creator': 'Microsoft® Word para Microsoft 365', 'moddate': '2024-05-22T17:50:58-05:00', 'page': 7, 'page_label': '8', 'producer': 'Microsoft® Word para Microsoft 365', 'source': 'ASIS_REPORTE_EJECUTIVO.pdf', 'total_pages': 12}, page_content='5.3. BD LeyCH \\nLa base de datos de BD LeyCh tiene 10 campos a ser llenados, de los cuales son \\nextraídos de un excell llamado “Blending”. Este ultimo es enviado por los encargados \\nde transporte SMEB. Se extrae, la ley, numero de viajes de M0, M1, M2, ECONOMICO \\nY MIXTO. Los campos de color azul son formulas.  \\n \\nLos numero de viajes son extraídos hora hora de manera manual mediante un grupo \\nde WhatsApp llamado “Blending – MS4M”. \\n \\n \\nFIGURA 5: DATOS DE INGRESO PLANTA 1 Y PLANTA 2'),\n",
       "  Document(metadata={'author': 'Fernando Mantari - MS4M', 'creationdate': '2024-05-22T17:50:58-05:00', 'creator': 'Microsoft® Word para Microsoft 365', 'moddate': '2024-05-22T17:50:58-05:00', 'page': 6, 'page_label': '7', 'producer': 'Microsoft® Word para Microsoft 365', 'source': 'ASIS_REPORTE_EJECUTIVO.pdf', 'total_pages': 12}, page_content='5.2. BD CH \\nLos datos de BD CH tiene 2 tablas, para Chancadora Cobre y Chancadora Trio Movil. \\nEl campo TONELAJE de estas tablas son alimentadas con los datos de reportes de fin \\nde turno del área de Despacho, los cuales son llenados desde un sistema pysistem. \\n \\n \\nFIGURA 3: DATOS DE INGRESO \"BD CH\" \\n \\nFIGURA 4: PYSISTEM')]}"
      ]
     },
     "execution_count": 36,
     "metadata": {},
     "output_type": "execute_result"
    }
   ],
   "source": [
    "respuesta_1 = cadena_retrival.invoke({\"query\": \"Que es la BD LeyCh?\"})\n",
    "respuesta_1"
   ]
  },
  {
   "cell_type": "code",
   "execution_count": 37,
   "metadata": {},
   "outputs": [
    {
     "data": {
      "text/plain": [
       "' La Base de Datos (BD) LeyCH es una base de datos utilizada para almacenar información sobre los viajes de carga realizados por SMEB. Es alimentada a partir de un excel llamado \"Blending\" y los datos son extraídos manualmente mediante un grupo de WhatsApp llamado \"Blending – MS4M\". Los campos que se llenan en la base de datos incluyen la ley, los números de viajes M0, M1, M2, ECONOMICO y MIXTO. Los campos azul son formulas.'"
      ]
     },
     "execution_count": 37,
     "metadata": {},
     "output_type": "execute_result"
    }
   ],
   "source": [
    "respuesta_1[\"result\"]"
   ]
  },
  {
   "cell_type": "code",
   "execution_count": 45,
   "metadata": {},
   "outputs": [
    {
     "data": {
      "text/plain": [
       "' El grupo de WhatsApp llamado \"Blending – MS4M\" fue creado por los encargados de transporte SMEB.'"
      ]
     },
     "execution_count": 45,
     "metadata": {},
     "output_type": "execute_result"
    }
   ],
   "source": [
    "respuesta_2 = cadena_retrival.invoke({\"query\": \"El grupo de WhatsApp llamado “Blending MS4M” quien lo creo?\"})\n",
    "respuesta_2[\"result\"]"
   ]
  },
  {
   "cell_type": "code",
   "execution_count": null,
   "metadata": {},
   "outputs": [],
   "source": []
  },
  {
   "cell_type": "code",
   "execution_count": 49,
   "metadata": {},
   "outputs": [
    {
     "data": {
      "text/plain": [
       "' El archivo Stock Canchas es un registro de los materiales y recursos utilizados en las canchas, proporcionado por la área de topografía. Este archivo se utiliza para llenar la hoja de stock \"Bancos - Libres\" y para realizar cálculos como el forecast 4 + 8, entre otros.'"
      ]
     },
     "execution_count": 49,
     "metadata": {},
     "output_type": "execute_result"
    }
   ],
   "source": [
    "respuesta_3 = cadena_retrival.invoke({\"query\": \"que es Stock Canchas\"})\n",
    "respuesta_3[\"result\"]"
   ]
  },
  {
   "cell_type": "code",
   "execution_count": 43,
   "metadata": {},
   "outputs": [
    {
     "data": {
      "text/plain": [
       "[Document(metadata={'author': 'Fernando Mantari - MS4M', 'creationdate': '2024-05-22T17:50:58-05:00', 'creator': 'Microsoft® Word para Microsoft 365', 'moddate': '2024-05-22T17:50:58-05:00', 'page': 0, 'page_label': '1', 'producer': 'Microsoft® Word para Microsoft 365', 'source': 'ASIS_REPORTE_EJECUTIVO.pdf', 'total_pages': 12}, page_content='[Fecha] \\n \\n  \\nFernando Mantari - MS4M \\n[NOMBRE DE LA EMPRESA] \\nÁREA:  DESPACHO UG SMEB \\nREPORTABILIDAD'),\n",
       " Document(metadata={'author': 'Fernando Mantari - MS4M', 'creationdate': '2024-05-22T17:50:58-05:00', 'creator': 'Microsoft® Word para Microsoft 365', 'moddate': '2024-05-22T17:50:58-05:00', 'page': 7, 'page_label': '8', 'producer': 'Microsoft® Word para Microsoft 365', 'source': 'ASIS_REPORTE_EJECUTIVO.pdf', 'total_pages': 12}, page_content='5.3. BD LeyCH \\nLa base de datos de BD LeyCh tiene 10 campos a ser llenados, de los cuales son \\nextraídos de un excell llamado “Blending”. Este ultimo es enviado por los encargados \\nde transporte SMEB. Se extrae, la ley, numero de viajes de M0, M1, M2, ECONOMICO \\nY MIXTO. Los campos de color azul son formulas.  \\n \\nLos numero de viajes son extraídos hora hora de manera manual mediante un grupo \\nde WhatsApp llamado “Blending – MS4M”. \\n \\n \\nFIGURA 5: DATOS DE INGRESO PLANTA 1 Y PLANTA 2')]"
      ]
     },
     "execution_count": 43,
     "metadata": {},
     "output_type": "execute_result"
    }
   ],
   "source": [
    "respuesta_2[\"source_documents\"]"
   ]
  },
  {
   "cell_type": "code",
   "execution_count": 44,
   "metadata": {},
   "outputs": [
    {
     "data": {
      "text/plain": [
       "[(0, 'ASIS_REPORTE_EJECUTIVO.pdf'), (7, 'ASIS_REPORTE_EJECUTIVO.pdf')]"
      ]
     },
     "execution_count": 44,
     "metadata": {},
     "output_type": "execute_result"
    }
   ],
   "source": [
    "metadata = []\n",
    "\n",
    "for _ in respuesta_2[\"source_documents\"]:\n",
    "    metadata.append((_.metadata[\"page\"], _.metadata[\"source\"]))\n",
    "metadata"
   ]
  },
  {
   "cell_type": "code",
   "execution_count": 52,
   "metadata": {},
   "outputs": [
    {
     "name": "stdout",
     "output_type": "stream",
     "text": [
      "Package                                  Version\n",
      "---------------------------------------- -----------\n",
      "absl-py                                  2.1.0\n",
      "aiohappyeyeballs                         2.4.6\n",
      "aiohttp                                  3.11.12\n",
      "aiosignal                                1.3.2\n",
      "annotated-types                          0.7.0\n",
      "anyio                                    4.8.0\n",
      "asgiref                                  3.8.1\n",
      "asttokens                                2.4.1\n",
      "astunparse                               1.6.3\n",
      "attrs                                    25.1.0\n",
      "backoff                                  2.2.1\n",
      "bcrypt                                   4.2.1\n",
      "build                                    1.2.2.post1\n",
      "cachetools                               5.5.1\n",
      "certifi                                  2024.7.4\n",
      "charset-normalizer                       3.3.2\n",
      "Chroma                                   0.2.0\n",
      "chroma-hnswlib                           0.7.6\n",
      "chromadb                                 0.6.3\n",
      "click                                    8.1.8\n",
      "colorama                                 0.4.6\n",
      "coloredlogs                              15.0.1\n",
      "comm                                     0.2.2\n",
      "confluent-kafka                          2.8.0\n",
      "contourpy                                1.2.1\n",
      "cycler                                   0.12.1\n",
      "dataclasses-json                         0.6.7\n",
      "debugpy                                  1.8.5\n",
      "decorator                                5.1.1\n",
      "delta-spark                              3.2.0\n",
      "deltalake                                0.19.1\n",
      "Deprecated                               1.2.18\n",
      "durationpy                               0.9\n",
      "executing                                2.0.1\n",
      "fastapi                                  0.115.8\n",
      "fastembed                                0.5.1\n",
      "filelock                                 3.17.0\n",
      "flatbuffers                              24.3.25\n",
      "fonttools                                4.53.1\n",
      "frozenlist                               1.5.0\n",
      "fsspec                                   2025.2.0\n",
      "gast                                     0.6.0\n",
      "google-auth                              2.38.0\n",
      "google-pasta                             0.2.0\n",
      "googleapis-common-protos                 1.67.0\n",
      "greenlet                                 3.1.1\n",
      "grpcio                                   1.66.0\n",
      "h11                                      0.14.0\n",
      "h5py                                     3.11.0\n",
      "httpcore                                 1.0.7\n",
      "httptools                                0.6.4\n",
      "httpx                                    0.28.1\n",
      "httpx-sse                                0.4.0\n",
      "huggingface-hub                          0.28.1\n",
      "humanfriendly                            10.0\n",
      "idna                                     3.8\n",
      "importlib_metadata                       8.4.0\n",
      "importlib_resources                      6.5.2\n",
      "ipykernel                                6.29.5\n",
      "ipython                                  8.26.0\n",
      "jedi                                     0.19.1\n",
      "joblib                                   1.4.2\n",
      "jsonpatch                                1.33\n",
      "jsonpointer                              3.0.0\n",
      "jupyter_client                           8.6.2\n",
      "jupyter_core                             5.7.2\n",
      "keras                                    3.5.0\n",
      "kiwisolver                               1.4.5\n",
      "kubernetes                               32.0.0\n",
      "langchain                                0.3.19\n",
      "langchain-community                      0.3.17\n",
      "langchain-core                           0.3.35\n",
      "langchain-text-splitters                 0.3.6\n",
      "langsmith                                0.3.8\n",
      "libclang                                 18.1.1\n",
      "loguru                                   0.7.3\n",
      "Markdown                                 3.7\n",
      "markdown-it-py                           3.0.0\n",
      "MarkupSafe                               2.1.5\n",
      "marshmallow                              3.26.1\n",
      "matplotlib                               3.9.2\n",
      "matplotlib-inline                        0.1.7\n",
      "mdurl                                    0.1.2\n",
      "ml-dtypes                                0.4.0\n",
      "mmh3                                     4.1.0\n",
      "monotonic                                1.6\n",
      "mpmath                                   1.3.0\n",
      "multidict                                6.1.0\n",
      "mypy-extensions                          1.0.0\n",
      "namex                                    0.0.8\n",
      "nest-asyncio                             1.6.0\n",
      "numpy                                    1.26.4\n",
      "oauthlib                                 3.2.2\n",
      "onnx                                     1.15.0\n",
      "onnxconverter-common                     1.14.0\n",
      "onnxmltools                              1.12.0\n",
      "onnxruntime                              1.19.0\n",
      "opentelemetry-api                        1.30.0\n",
      "opentelemetry-exporter-otlp-proto-common 1.30.0\n",
      "opentelemetry-exporter-otlp-proto-grpc   1.30.0\n",
      "opentelemetry-instrumentation            0.51b0\n",
      "opentelemetry-instrumentation-asgi       0.51b0\n",
      "opentelemetry-instrumentation-fastapi    0.51b0\n",
      "opentelemetry-proto                      1.30.0\n",
      "opentelemetry-sdk                        1.30.0\n",
      "opentelemetry-semantic-conventions       0.51b0\n",
      "opentelemetry-util-http                  0.51b0\n",
      "opt-einsum                               3.3.0\n",
      "optree                                   0.12.1\n",
      "orjson                                   3.10.15\n",
      "overrides                                7.7.0\n",
      "packaging                                24.1\n",
      "pandas                                   2.2.2\n",
      "parso                                    0.8.4\n",
      "patsy                                    0.5.6\n",
      "pillow                                   10.4.0\n",
      "pip                                      24.2\n",
      "platformdirs                             4.2.2\n",
      "plotly                                   5.24.1\n",
      "posthog                                  3.14.1\n",
      "prompt_toolkit                           3.0.47\n",
      "propcache                                0.2.1\n",
      "protobuf                                 5.29.3\n",
      "psutil                                   6.0.0\n",
      "pure_eval                                0.2.3\n",
      "py_rust_stemmers                         0.1.3\n",
      "py4j                                     0.10.9.7\n",
      "pyarrow                                  17.0.0\n",
      "pyasn1                                   0.6.1\n",
      "pyasn1_modules                           0.4.1\n",
      "pydantic                                 2.10.6\n",
      "pydantic_core                            2.27.2\n",
      "pydantic-settings                        2.7.1\n",
      "Pygments                                 2.18.0\n",
      "PyMuPDF                                  1.25.3\n",
      "pyparsing                                3.1.4\n",
      "pypdf                                    5.3.0\n",
      "PyPika                                   0.48.9\n",
      "pyproject_hooks                          1.2.0\n",
      "pyreadline3                              3.4.1\n",
      "pyspark                                  3.5.2\n",
      "python-dateutil                          2.9.0.post0\n",
      "python-dotenv                            1.0.1\n",
      "pytz                                     2024.1\n",
      "pywin32                                  306\n",
      "PyYAML                                   6.0.2\n",
      "pyzmq                                    26.2.0\n",
      "requests                                 2.32.3\n",
      "requests-oauthlib                        2.0.0\n",
      "requests-toolbelt                        1.0.0\n",
      "rich                                     13.8.0\n",
      "rsa                                      4.9\n",
      "scikit-learn                             1.5.1\n",
      "scipy                                    1.14.1\n",
      "seaborn                                  0.13.2\n",
      "setuptools                               65.5.0\n",
      "shellingham                              1.5.4\n",
      "six                                      1.16.0\n",
      "skl2onnx                                 1.16.0\n",
      "sniffio                                  1.3.1\n",
      "SQLAlchemy                               2.0.38\n",
      "stack-data                               0.6.3\n",
      "starlette                                0.45.3\n",
      "statsmodels                              0.14.2\n",
      "sympy                                    1.13.2\n",
      "tenacity                                 9.0.0\n",
      "tensorboard                              2.17.1\n",
      "tensorboard-data-server                  0.7.2\n",
      "tensorflow                               2.17.0\n",
      "tensorflow-intel                         2.17.0\n",
      "tensorflow-io-gcs-filesystem             0.31.0\n",
      "termcolor                                2.4.0\n",
      "threadpoolctl                            3.5.0\n",
      "tokenizers                               0.21.0\n",
      "tornado                                  6.4.1\n",
      "tqdm                                     4.67.1\n",
      "traitlets                                5.14.3\n",
      "typer                                    0.15.1\n",
      "typing_extensions                        4.12.2\n",
      "typing-inspect                           0.9.0\n",
      "tzdata                                   2024.1\n",
      "urllib3                                  2.2.2\n",
      "uvicorn                                  0.34.0\n",
      "watchfiles                               1.0.4\n",
      "wcwidth                                  0.2.13\n",
      "websocket-client                         1.8.0\n",
      "websockets                               15.0\n",
      "Werkzeug                                 3.0.4\n",
      "wheel                                    0.44.0\n",
      "win32_setctime                           1.2.0\n",
      "wrapt                                    1.16.0\n",
      "xgboost                                  2.1.1\n",
      "yarl                                     1.18.3\n",
      "zipp                                     3.20.1\n",
      "zstandard                                0.23.0\n"
     ]
    }
   ],
   "source": [
    "!pip list"
   ]
  },
  {
   "cell_type": "code",
   "execution_count": null,
   "metadata": {},
   "outputs": [],
   "source": []
  }
 ],
 "metadata": {
  "kernelspec": {
   "display_name": "Python 3",
   "language": "python",
   "name": "python3"
  },
  "language_info": {
   "codemirror_mode": {
    "name": "ipython",
    "version": 3
   },
   "file_extension": ".py",
   "mimetype": "text/x-python",
   "name": "python",
   "nbconvert_exporter": "python",
   "pygments_lexer": "ipython3",
   "version": "3.11.9"
  }
 },
 "nbformat": 4,
 "nbformat_minor": 2
}
